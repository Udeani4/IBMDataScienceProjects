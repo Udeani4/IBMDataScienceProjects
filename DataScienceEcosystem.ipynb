{
 "cells": [
  {
   "cell_type": "markdown",
   "id": "6510d310-f08a-4354-ada9-2ae850e2918c",
   "metadata": {},
   "source": [
    "# Data Science Tools and Ecosystem"
   ]
  },
  {
   "cell_type": "markdown",
   "id": "1d91d82c-297d-4d5e-b8b3-a5059c86522f",
   "metadata": {},
   "source": [
    "In this notebook, Data Science Tools and Ecosystem are summarized."
   ]
  },
  {
   "cell_type": "markdown",
   "id": "6fd951e2-3200-4866-9241-76bbbb850b47",
   "metadata": {},
   "source": [
    "Objectives:\n",
    "* List the popular languages in Data science\n",
    "* List some commonly used libraries used by data scientists\n",
    "* Create a table containing some datascience tools\n",
    "* Evaluate basic arithmetic expressions"
   ]
  },
  {
   "cell_type": "markdown",
   "id": "dbe0fb2c-741b-4c9a-9779-8e719a240bc6",
   "metadata": {},
   "source": [
    "Some of the popular languages that Data Scientists use are:"
   ]
  },
  {
   "cell_type": "markdown",
   "id": "3956ae61-5eb7-4b62-bf96-6f7559249f6e",
   "metadata": {},
   "source": [
    "1. Python programming language\n",
    "2. R programming language\n",
    "3. Structured Query Language (SQL)\n",
    "4. C++"
   ]
  },
  {
   "cell_type": "markdown",
   "id": "7d39cc56-ffd2-4218-aa9f-e14e3526511a",
   "metadata": {},
   "source": [
    "Some of the commonly used libraries used by Data Scientists include:"
   ]
  },
  {
   "cell_type": "markdown",
   "id": "a6b50eb1-b60c-41ff-a33a-12dcc3bbfdee",
   "metadata": {},
   "source": [
    "1. Matplotlib\n",
    "2. Scikit-learn\n",
    "3. Pandas\n",
    "4. Numpy"
   ]
  },
  {
   "cell_type": "markdown",
   "id": "f9509d86-4c8e-43a7-8908-df9a8c9aa420",
   "metadata": {},
   "source": [
    "| Data Science Tools |\n",
    "| ------------------ |\n",
    "| Pycharm |\n",
    "| Jupyter Notebook |\n",
    "| R Studio |\n",
    "|Visual Studio Code |"
   ]
  },
  {
   "cell_type": "markdown",
   "id": "47a9fb6f-cbeb-496f-a2eb-c6c5a8a2f92a",
   "metadata": {},
   "source": [
    "### Below are a few examples of evaluating arithmetic expressions in Python."
   ]
  },
  {
   "cell_type": "code",
   "execution_count": 9,
   "id": "bca4c4df-a4cf-4159-98bb-49b31581f8db",
   "metadata": {},
   "outputs": [
    {
     "data": {
      "text/plain": [
       "17"
      ]
     },
     "execution_count": 9,
     "metadata": {},
     "output_type": "execute_result"
    }
   ],
   "source": [
    "# This a simple arithmetic expression to mutiply then add integers\n",
    "(3*4)+5"
   ]
  },
  {
   "cell_type": "code",
   "execution_count": 11,
   "id": "fcdbe419-2b30-408e-97f0-bd9dff5384af",
   "metadata": {},
   "outputs": [
    {
     "name": "stdout",
     "output_type": "stream",
     "text": [
      "3.3333333333333335\n"
     ]
    }
   ],
   "source": [
    "# This will convert 200 minutes to hours by diving by 60\n",
    "mins = 200\n",
    "converted_value = mins/60\n",
    "print(converted_value)"
   ]
  },
  {
   "cell_type": "markdown",
   "id": "dcc2cb73-5844-4e9b-a42a-77b2fc9c05b2",
   "metadata": {},
   "source": [
    "## Author\n",
    "Udeani Izuchukwu"
   ]
  },
  {
   "cell_type": "code",
   "execution_count": null,
   "id": "7ae6bb01-486b-47f6-b03f-3e37bdd219d9",
   "metadata": {},
   "outputs": [],
   "source": []
  }
 ],
 "metadata": {
  "kernelspec": {
   "display_name": "Python [conda env:base] *",
   "language": "python",
   "name": "conda-base-py"
  },
  "language_info": {
   "codemirror_mode": {
    "name": "ipython",
    "version": 3
   },
   "file_extension": ".py",
   "mimetype": "text/x-python",
   "name": "python",
   "nbconvert_exporter": "python",
   "pygments_lexer": "ipython3",
   "version": "3.12.7"
  }
 },
 "nbformat": 4,
 "nbformat_minor": 5
}
